{
  "nbformat": 4,
  "nbformat_minor": 0,
  "metadata": {
    "colab": {
      "name": "lab6_AML.ipynb",
      "provenance": [],
      "collapsed_sections": []
    },
    "kernelspec": {
      "display_name": "Python 3",
      "name": "python3"
    },
    "language_info": {
      "name": "python"
    }
  },
  "cells": [
    {
      "cell_type": "markdown",
      "metadata": {
        "id": "wDNOGj5A6pkI"
      },
      "source": [
        "Data preparation "
      ]
    },
    {
      "cell_type": "code",
      "metadata": {
        "colab": {
          "base_uri": "https://localhost:8080/"
        },
        "id": "NT2rLxwJdUkH",
        "outputId": "1257d68e-71ca-46d2-b0c9-feeea5c84c82"
      },
      "source": [
        "!wget -P data/ https://raw.githubusercontent.com/Gci04/AML-DS-2021/main/data/PosTagging/train_pos.txt"
      ],
      "execution_count": 1,
      "outputs": [
        {
          "output_type": "stream",
          "text": [
            "--2021-04-19 07:21:19--  https://raw.githubusercontent.com/Gci04/AML-DS-2021/main/data/PosTagging/train_pos.txt\n",
            "Resolving raw.githubusercontent.com (raw.githubusercontent.com)... 185.199.108.133, 185.199.109.133, 185.199.110.133, ...\n",
            "Connecting to raw.githubusercontent.com (raw.githubusercontent.com)|185.199.108.133|:443... connected.\n",
            "HTTP request sent, awaiting response... 200 OK\n",
            "Length: 1855828 (1.8M) [text/plain]\n",
            "Saving to: ‘data/train_pos.txt’\n",
            "\n",
            "train_pos.txt       100%[===================>]   1.77M  --.-KB/s    in 0.09s   \n",
            "\n",
            "2021-04-19 07:21:19 (20.2 MB/s) - ‘data/train_pos.txt’ saved [1855828/1855828]\n",
            "\n"
          ],
          "name": "stdout"
        }
      ]
    },
    {
      "cell_type": "code",
      "metadata": {
        "colab": {
          "base_uri": "https://localhost:8080/"
        },
        "id": "Z8Ib2XY2doFb",
        "outputId": "9a0fff85-f418-45c3-f266-c52554c7565c"
      },
      "source": [
        "!wget -P data/ https://raw.githubusercontent.com/Gci04/AML-DS-2021/main/data/PosTagging/test_pos.txt"
      ],
      "execution_count": 2,
      "outputs": [
        {
          "output_type": "stream",
          "text": [
            "--2021-04-19 07:21:19--  https://raw.githubusercontent.com/Gci04/AML-DS-2021/main/data/PosTagging/test_pos.txt\n",
            "Resolving raw.githubusercontent.com (raw.githubusercontent.com)... 185.199.108.133, 185.199.109.133, 185.199.110.133, ...\n",
            "Connecting to raw.githubusercontent.com (raw.githubusercontent.com)|185.199.108.133|:443... connected.\n",
            "HTTP request sent, awaiting response... 200 OK\n",
            "Length: 418682 (409K) [text/plain]\n",
            "Saving to: ‘data/test_pos.txt’\n",
            "\n",
            "test_pos.txt        100%[===================>] 408.87K  --.-KB/s    in 0.03s   \n",
            "\n",
            "2021-04-19 07:21:19 (11.6 MB/s) - ‘data/test_pos.txt’ saved [418682/418682]\n",
            "\n"
          ],
          "name": "stdout"
        }
      ]
    },
    {
      "cell_type": "code",
      "metadata": {
        "id": "it1SpStneBQU"
      },
      "source": [
        "import numpy as np"
      ],
      "execution_count": 3,
      "outputs": []
    },
    {
      "cell_type": "code",
      "metadata": {
        "id": "hjhx6vGBeJTI"
      },
      "source": [
        "with open(\"data/train_pos.txt\", \"r\") as file:\n",
        "  sents = file.read().split(\" \\n\")\n",
        "with open(\"data/test_pos.txt\", \"r\") as file:\n",
        "  sents_test = file.read().split(\" \\n\")"
      ],
      "execution_count": 4,
      "outputs": []
    },
    {
      "cell_type": "code",
      "metadata": {
        "colab": {
          "base_uri": "https://localhost:8080/"
        },
        "id": "Zg4wBeghfAEq",
        "outputId": "824e5252-cc3c-4a66-b8f6-d3b73b292d57"
      },
      "source": [
        "train_data_raw = np.array([[(word_tag.split()) for word_tag in sent.split(\"\\n\") if len(word_tag.split()) == 2] for sent in sents])[:-1]\n",
        "test_data_raw = np.array([[(word_tag.split()) for word_tag in sent.split(\"\\n\") if len(word_tag.split()) == 2] for sent in sents_test])[:-1]"
      ],
      "execution_count": 5,
      "outputs": [
        {
          "output_type": "stream",
          "text": [
            "/usr/local/lib/python3.7/dist-packages/ipykernel_launcher.py:1: VisibleDeprecationWarning: Creating an ndarray from ragged nested sequences (which is a list-or-tuple of lists-or-tuples-or ndarrays with different lengths or shapes) is deprecated. If you meant to do this, you must specify 'dtype=object' when creating the ndarray\n",
            "  \"\"\"Entry point for launching an IPython kernel.\n",
            "/usr/local/lib/python3.7/dist-packages/ipykernel_launcher.py:2: VisibleDeprecationWarning: Creating an ndarray from ragged nested sequences (which is a list-or-tuple of lists-or-tuples-or ndarrays with different lengths or shapes) is deprecated. If you meant to do this, you must specify 'dtype=object' when creating the ndarray\n",
            "  \n"
          ],
          "name": "stderr"
        }
      ]
    },
    {
      "cell_type": "code",
      "metadata": {
        "id": "TS5SEJoug5wM"
      },
      "source": [
        "from functools import reduce\n",
        "words_voc = [' '] + list(set([word for word, _ in list(reduce(lambda x,y: np.concatenate((x, y), axis=0), np.concatenate((train_data_raw, test_data_raw))))]))\n",
        "tags_voc = [' '] + list(set([tag for _, tag in list(reduce(lambda x,y: np.concatenate((x, y), axis=0), np.concatenate((train_data_raw, test_data_raw))))]))"
      ],
      "execution_count": 275,
      "outputs": []
    },
    {
      "cell_type": "code",
      "metadata": {
        "id": "UzxWY2halpjZ"
      },
      "source": [
        "word_to_ind = {}\n",
        "for index, word in enumerate(words_voc):\n",
        "  word_to_ind[word] = index\n",
        "tag_to_ind = {}\n",
        "for index, tag in enumerate(tags_voc):\n",
        "  tag_to_ind[tag] = index"
      ],
      "execution_count": 276,
      "outputs": []
    },
    {
      "cell_type": "code",
      "metadata": {
        "id": "O1cYsmW0mX6Z"
      },
      "source": [
        "MAX_LEN = 40\n",
        "def post(sample, max_len = MAX_LEN):\n",
        "  res = np.zeros(max_len, dtype=np.int16)\n",
        "  for ind, w in enumerate(sample):\n",
        "    if ind >= max_len:\n",
        "      break\n",
        "    res[ind] = w\n",
        "  return res"
      ],
      "execution_count": 284,
      "outputs": []
    },
    {
      "cell_type": "code",
      "metadata": {
        "id": "r-koveZ9kinE"
      },
      "source": [
        "x_train = []\n",
        "y_train = []\n",
        "for sent in train_data_raw:\n",
        "  x_train.append(post([word_to_ind[word] for word, _ in sent]))\n",
        "  y_train.append(post([tag_to_ind[tag] for _, tag in sent]))\n",
        "x_test = []\n",
        "y_test = []\n",
        "for sent in test_data_raw:\n",
        "  x_test.append(post([word_to_ind[word] for word, _ in sent]))\n",
        "  y_test.append(post([tag_to_ind[tag] for _, tag in sent]))\n",
        "x_train = np.array(x_train)\n",
        "y_train = np.array(y_train)\n",
        "x_test = np.array(x_test)\n",
        "y_test = np.array(y_test)\n"
      ],
      "execution_count": 285,
      "outputs": []
    },
    {
      "cell_type": "code",
      "metadata": {
        "id": "kWdq0Ds7o7u_"
      },
      "source": [
        "from tensorflow.keras.models import Model, Sequential\n",
        "from tensorflow.keras import layers #import Input, LSTM, Dense, Embedding\n",
        "from tensorflow.keras import regularizers\n",
        "from tensorflow.keras.optimizers import Adam\n",
        "from tensorflow.keras.callbacks import  LearningRateScheduler\n",
        "from tensorflow.math import exp\n",
        "vocab_size = len(words_voc) + 1\n"
      ],
      "execution_count": 263,
      "outputs": []
    },
    {
      "cell_type": "markdown",
      "metadata": {
        "id": "w3YBU5m06yFo"
      },
      "source": [
        "Calculation the transition probability and emission matrices"
      ]
    },
    {
      "cell_type": "code",
      "metadata": {
        "id": "lza7o9iYF8Jc"
      },
      "source": [
        "T = np.zeros((len(tags_voc),len(tags_voc)))\n",
        "W = np.zeros((len(tags_voc),len(words_voc)))\n",
        "P_P = np.zeros((len(tags_voc)))"
      ],
      "execution_count": 286,
      "outputs": []
    },
    {
      "cell_type": "code",
      "metadata": {
        "id": "A_QHBzL5Ae_d"
      },
      "source": [
        "for sent, tags in list(zip(x_train, y_train)):\n",
        "  for word, tag in list(zip(sent, tags)):\n",
        "    W[tag][word] += 1\n",
        "    P_P[tag] += 1\n",
        "  for i in range(1,len(tags) - 1):\n",
        "    T[tags[i - 1]][tags[i]] += 1\n",
        "\n",
        "for i in range(T.shape[0]):\n",
        "  T[i] /= np.sum(T[i])\n",
        "for i in range(W.shape[0]):\n",
        "  W[i] /= np.sum(W[i]) \n",
        "P_P /= np.sum(P_P)"
      ],
      "execution_count": 287,
      "outputs": []
    },
    {
      "cell_type": "markdown",
      "metadata": {
        "id": "ftL2lrt16_Nn"
      },
      "source": [
        "Viterbi algorithm"
      ]
    },
    {
      "cell_type": "code",
      "metadata": {
        "id": "qpb2InCGZefk"
      },
      "source": [
        "def viterbi(x):\n",
        "  cur_probs = np.zeros((T.shape[0]))\n",
        "  seq = []\n",
        "  for word in x:\n",
        "    if word == x[0]:\n",
        "      cur_probs = np.exp(np.log(P_P) + np.log(W[:,word]))\n",
        "      # for i in range(cur_probs.shape[0]):\n",
        "      #   cur_probs[i] = P_P[i] * W[i][word]\n",
        "      \n",
        "    else:\n",
        "      last_prob = np.array(cur_probs)\n",
        "      cur_probs = np.zeros((T.shape[0]))\n",
        "      cur_probs = np.sum(np.exp((np.log(last_prob) + np.log(T).T).T + np.log(W[:,word]).T), axis = 0)\n",
        "      # for i in range(cur_probs.shape[0]):\n",
        "      #   cur_probs[i] = np.sum(np.exp(np.log(last_prob) + np.log(T[:,i]) + np.log(W[i,word])))\n",
        "        # for j in range(cur_probs.shape[0]):\n",
        "        #   cur_probs[i] += last_prob[j] * T[j][i] * W[i][word]\n",
        "    seq.append(np.argmax(cur_probs))\n",
        "  return seq"
      ],
      "execution_count": 299,
      "outputs": []
    },
    {
      "cell_type": "code",
      "metadata": {
        "colab": {
          "base_uri": "https://localhost:8080/"
        },
        "id": "ZjorI7vSlZZ3",
        "outputId": "c67f56cb-e103-4b53-98b2-3ad464bbb68c"
      },
      "source": [
        "def evaluate_viterbi(x_, y_):\n",
        "  acc = 0\n",
        "  c = 0\n",
        "  for i in range(x_.shape[0]):\n",
        "    y_pred = viterbi(x_[i])\n",
        "    y_true = y_[i]\n",
        "    for pred, obs in list(zip(y_pred, y_true)):\n",
        "      if pred == obs:\n",
        "        acc += 1\n",
        "      c += 1\n",
        "      # print(pred, obs,\"\\n\") \n",
        "  # acc /= c \n",
        "  return acc/c\n",
        "print(\"Training accuracy - \", evaluate_viterbi(x_train,y_train))\n",
        "print(\"Testing accuracy - \", evaluate_viterbi(x_test,y_test))\n"
      ],
      "execution_count": 300,
      "outputs": [
        {
          "output_type": "stream",
          "text": [
            "/usr/local/lib/python3.7/dist-packages/ipykernel_launcher.py:6: RuntimeWarning: divide by zero encountered in log\n",
            "  \n",
            "/usr/local/lib/python3.7/dist-packages/ipykernel_launcher.py:13: RuntimeWarning: divide by zero encountered in log\n",
            "  del sys.path[0]\n"
          ],
          "name": "stderr"
        },
        {
          "output_type": "stream",
          "text": [
            "Training accuracy -  0.9888009176365264\n",
            "Testing accuracy -  0.676814115308151\n"
          ],
          "name": "stdout"
        }
      ]
    },
    {
      "cell_type": "code",
      "metadata": {
        "colab": {
          "base_uri": "https://localhost:8080/"
        },
        "id": "q5YE3KJs8jZE",
        "outputId": "556dc7da-cbcd-4e94-a383-45372216a361"
      },
      "source": [
        "from sklearn.preprocessing import OneHotEncoder\n",
        "\n",
        "enc = OneHotEncoder(handle_unknown='ignore')\n",
        "enc.fit([[i] for i in range(len(tags_voc))])\n"
      ],
      "execution_count": 268,
      "outputs": [
        {
          "output_type": "execute_result",
          "data": {
            "text/plain": [
              "OneHotEncoder(categories='auto', drop=None, dtype=<class 'numpy.float64'>,\n",
              "              handle_unknown='ignore', sparse=True)"
            ]
          },
          "metadata": {
            "tags": []
          },
          "execution_count": 268
        }
      ]
    },
    {
      "cell_type": "code",
      "metadata": {
        "id": "yILcgLb2Wn_G"
      },
      "source": [
        "y_train = np.array([(enc.transform(samp.reshape(-1, 1))).toarray() for samp in y_train])\n",
        "y_test = np.array([(enc.transform(samp.reshape(-1, 1))).toarray() for samp in y_test])"
      ],
      "execution_count": 269,
      "outputs": []
    },
    {
      "cell_type": "markdown",
      "metadata": {
        "id": "DwmNdtD57HsY"
      },
      "source": [
        "Recurrent Neural Network for POS tagging task"
      ]
    },
    {
      "cell_type": "code",
      "metadata": {
        "colab": {
          "base_uri": "https://localhost:8080/"
        },
        "id": "7RvauPKN8s02",
        "outputId": "897f695e-c68a-4ae0-b76e-8c31408f2c9f"
      },
      "source": [
        "model = Sequential()\n",
        "model.add(layers.Embedding(input_dim=vocab_size, \n",
        "                           output_dim=100, \n",
        "                           input_length=MAX_LEN))\n",
        "# model.add(layers.LSTM(250, activation='relu', return_sequences=True)) #,kernel_regularizer=regularizers.l1_l2(l1=1e-8, l2=1e-8)\n",
        "# model.add(layers.Conv2D(25, (1,5)), activation='relu')\n",
        "model.add(layers.LSTM(180, activation='relu', return_sequences=True)) #, kernel_regularizer=regularizers.l1_l2(l1=1e-8, l2=1e-8)\n",
        "model.add(layers.Dropout(0.1))\n",
        "model.add(layers.Dense(100, activation='relu')) #, kernel_regularizer=regularizers.l1_l2(l1=1e-8, l2=1e-8)\n",
        "model.add(layers.Dropout(0.1))\n",
        "model.add(layers.Dense(len(tags_voc), activation='softmax'))\n",
        "model.compile(optimizer=Adam(learning_rate = 0.0099),\n",
        "              loss='categorical_crossentropy',\n",
        "              metrics=['accuracy'])\n",
        "model.summary()"
      ],
      "execution_count": 270,
      "outputs": [
        {
          "output_type": "stream",
          "text": [
            "Model: \"sequential_11\"\n",
            "_________________________________________________________________\n",
            "Layer (type)                 Output Shape              Param #   \n",
            "=================================================================\n",
            "embedding_11 (Embedding)     (None, 40, 100)           2159000   \n",
            "_________________________________________________________________\n",
            "lstm_17 (LSTM)               (None, 40, 180)           202320    \n",
            "_________________________________________________________________\n",
            "dropout_12 (Dropout)         (None, 40, 180)           0         \n",
            "_________________________________________________________________\n",
            "dense_22 (Dense)             (None, 40, 100)           18100     \n",
            "_________________________________________________________________\n",
            "dropout_13 (Dropout)         (None, 40, 100)           0         \n",
            "_________________________________________________________________\n",
            "dense_23 (Dense)             (None, 40, 44)            4444      \n",
            "=================================================================\n",
            "Total params: 2,383,864\n",
            "Trainable params: 2,383,864\n",
            "Non-trainable params: 0\n",
            "_________________________________________________________________\n"
          ],
          "name": "stdout"
        }
      ]
    },
    {
      "cell_type": "code",
      "metadata": {
        "id": "h51M_2WOhx8r"
      },
      "source": [
        "def scheduler(epoch, lr):\n",
        "   if epoch < 8:\n",
        "     return lr\n",
        "   else:\n",
        "     return lr * 0.9"
      ],
      "execution_count": 271,
      "outputs": []
    },
    {
      "cell_type": "code",
      "metadata": {
        "colab": {
          "base_uri": "https://localhost:8080/"
        },
        "id": "IM1h5iuRF8A1",
        "outputId": "0f5d7a89-f861-42cf-ed25-ade6f5f802fc"
      },
      "source": [
        "callback = LearningRateScheduler(scheduler)\n",
        "history = model.fit(x_train, y_train,\n",
        "                    epochs=20,\n",
        "                    verbose=1,\n",
        "                    validation_data=(x_test, y_test),\n",
        "                    batch_size=128,\n",
        "                    callbacks = [callback])"
      ],
      "execution_count": 272,
      "outputs": [
        {
          "output_type": "stream",
          "text": [
            "Epoch 1/20\n",
            "70/70 [==============================] - 27s 357ms/step - loss: 3158.0327 - accuracy: 0.2640 - val_loss: 1.5558 - val_accuracy: 0.5578\n",
            "Epoch 2/20\n",
            "70/70 [==============================] - 23s 322ms/step - loss: 1.4510 - accuracy: 0.5930 - val_loss: 1.0754 - val_accuracy: 0.7102\n",
            "Epoch 3/20\n",
            "70/70 [==============================] - 22s 316ms/step - loss: 0.9696 - accuracy: 0.7373 - val_loss: 0.6742 - val_accuracy: 0.8149\n",
            "Epoch 4/20\n",
            "70/70 [==============================] - 21s 305ms/step - loss: 0.6194 - accuracy: 0.8304 - val_loss: 0.5018 - val_accuracy: 0.8635\n",
            "Epoch 5/20\n",
            "70/70 [==============================] - 23s 332ms/step - loss: 0.4527 - accuracy: 0.8744 - val_loss: 0.4115 - val_accuracy: 0.8870\n",
            "Epoch 6/20\n",
            "70/70 [==============================] - 22s 315ms/step - loss: 0.3568 - accuracy: 0.9002 - val_loss: 0.3605 - val_accuracy: 0.9018\n",
            "Epoch 7/20\n",
            "70/70 [==============================] - 22s 319ms/step - loss: 0.2855 - accuracy: 0.9199 - val_loss: 0.3175 - val_accuracy: 0.9158\n",
            "Epoch 8/20\n",
            "70/70 [==============================] - 23s 332ms/step - loss: 0.2408 - accuracy: 0.9322 - val_loss: 0.2942 - val_accuracy: 0.9202\n",
            "Epoch 9/20\n",
            "70/70 [==============================] - 22s 319ms/step - loss: 0.2046 - accuracy: 0.9421 - val_loss: 0.2779 - val_accuracy: 0.9241\n",
            "Epoch 10/20\n",
            "70/70 [==============================] - 24s 340ms/step - loss: 0.1781 - accuracy: 0.9485 - val_loss: 0.2702 - val_accuracy: 0.9282\n",
            "Epoch 11/20\n",
            "70/70 [==============================] - 21s 300ms/step - loss: 0.1532 - accuracy: 0.9553 - val_loss: 0.2590 - val_accuracy: 0.9309\n",
            "Epoch 12/20\n",
            "70/70 [==============================] - 24s 349ms/step - loss: 0.1359 - accuracy: 0.9606 - val_loss: 0.2558 - val_accuracy: 0.9324\n",
            "Epoch 13/20\n",
            "70/70 [==============================] - 20s 285ms/step - loss: 0.1253 - accuracy: 0.9636 - val_loss: 0.2555 - val_accuracy: 0.9329\n",
            "Epoch 14/20\n",
            "70/70 [==============================] - 27s 384ms/step - loss: 0.1133 - accuracy: 0.9668 - val_loss: 0.2516 - val_accuracy: 0.9336\n",
            "Epoch 15/20\n",
            "70/70 [==============================] - 21s 294ms/step - loss: 0.1045 - accuracy: 0.9699 - val_loss: 0.2509 - val_accuracy: 0.9345\n",
            "Epoch 16/20\n",
            "70/70 [==============================] - 26s 366ms/step - loss: 0.0980 - accuracy: 0.9712 - val_loss: 0.2506 - val_accuracy: 0.9356\n",
            "Epoch 17/20\n",
            "70/70 [==============================] - 21s 306ms/step - loss: 0.0916 - accuracy: 0.9733 - val_loss: 0.2511 - val_accuracy: 0.9362\n",
            "Epoch 18/20\n",
            "70/70 [==============================] - 24s 339ms/step - loss: 0.0863 - accuracy: 0.9747 - val_loss: 0.2535 - val_accuracy: 0.9366\n",
            "Epoch 19/20\n",
            "70/70 [==============================] - 22s 316ms/step - loss: 0.0808 - accuracy: 0.9761 - val_loss: 0.2535 - val_accuracy: 0.9368\n",
            "Epoch 20/20\n",
            "70/70 [==============================] - 22s 319ms/step - loss: 0.0778 - accuracy: 0.9769 - val_loss: 0.2572 - val_accuracy: 0.9370\n"
          ],
          "name": "stdout"
        }
      ]
    },
    {
      "cell_type": "code",
      "metadata": {
        "id": "5JAfrMKrt1Ze"
      },
      "source": [
        "import matplotlib.pyplot as plt\n",
        "plt.style.use('ggplot')\n",
        "\n",
        "def plot_history(history):\n",
        "    acc = history.history['accuracy']\n",
        "    val_acc = history.history['val_accuracy']\n",
        "    loss = history.history['loss']\n",
        "    val_loss = history.history['val_loss']\n",
        "    x = range(1, len(acc) + 1)\n",
        "\n",
        "    plt.figure(figsize=(12, 5))\n",
        "    plt.subplot(1, 2, 1)\n",
        "    plt.plot(x, acc, 'b', label='Training acc')\n",
        "    plt.plot(x, val_acc, 'r', label='Validation acc')\n",
        "    plt.title('Training and validation accuracy')\n",
        "    plt.legend()\n",
        "    plt.subplot(1, 2, 2)\n",
        "    plt.plot(x, loss, 'b', label='Training loss')\n",
        "    plt.plot(x, val_loss, 'r', label='Validation loss')\n",
        "    plt.title('Training and validation loss')\n",
        "    plt.legend()"
      ],
      "execution_count": 301,
      "outputs": []
    },
    {
      "cell_type": "code",
      "metadata": {
        "id": "Ik67zxiBt2IH",
        "outputId": "7246d4f6-a5c4-4d79-a5e4-9b57777b3a5c",
        "colab": {
          "base_uri": "https://localhost:8080/",
          "height": 337
        }
      },
      "source": [
        "plot_history(history)"
      ],
      "execution_count": 302,
      "outputs": [
        {
          "output_type": "display_data",
          "data": {
            "image/png": "[encoded data removed]",
            "text/plain": [
              "<Figure size 864x360 with 2 Axes>"
            ]
          },
          "metadata": {
            "tags": []
          }
        }
      ]
    },
    {
      "cell_type": "code",
      "metadata": {
        "id": "roBWdCkdAfCc"
      },
      "source": [
        "model.save(\"model.h5\")"
      ],
      "execution_count": 273,
      "outputs": []
    },
    {
      "cell_type": "code",
      "metadata": {
        "id": "CJ_SEGu5AfGg"
      },
      "source": [
        "def get_tags(sentence, method = 'HMM'):\n",
        "  \"\"\"\n",
        "  method can be RNN or HMM\n",
        "  \"\"\"\n",
        "  size = len(sentence.split())\n",
        "  x = post([word_to_ind[word] if word in word_to_ind else 0  for word in sentence.split()])\n",
        "  x = np.array(x, dtype=np.int16)\n",
        "  # print(x)\n",
        "  if method == \"RNN\":\n",
        "    res = model.predict(x).reshape(MAX_LEN,len(tags_voc))\n",
        "    res = [enc.inverse_transform([tag]).reshape(-1)[0] for tag in res]\n",
        "  if method == \"HMM\":\n",
        "    res = viterbi(x)\n",
        "  # print(res)\n",
        "  return ' '.join([tags_voc[tid] for tid in res[:size]])"
      ],
      "execution_count": 274,
      "outputs": []
    },
    {
      "cell_type": "code",
      "metadata": {
        "colab": {
          "base_uri": "https://localhost:8080/"
        },
        "id": "UcEj56WP_Tce",
        "outputId": "311612c8-92b6-4cdb-de0e-8078b2e8aabe"
      },
      "source": [
        "test = ' '.join([words_voc[int(wid)] for wid in x_train[0]])\n",
        "print(test)"
      ],
      "execution_count": 157,
      "outputs": [
        {
          "output_type": "stream",
          "text": [
            "Confidence in the pound is widely expected to take another sharp dive if trade figures for September , due for release tomorrow , fail to show a substantial improvement from July and August 's near-record deficits .      \n"
          ],
          "name": "stdout"
        }
      ]
    },
    {
      "cell_type": "code",
      "metadata": {
        "colab": {
          "base_uri": "https://localhost:8080/",
          "height": 35
        },
        "id": "tnuvFeBjAfIF",
        "outputId": "01ad11d9-5b3c-4452-dde0-ae32fd92528e"
      },
      "source": [
        "get_tags(test, \"HMM\")"
      ],
      "execution_count": 160,
      "outputs": [
        {
          "output_type": "execute_result",
          "data": {
            "application/vnd.google.colaboratory.intrinsic+json": {
              "type": "string"
            },
            "text/plain": [
              "'NN IN DT NN VBZ RB VBN TO VB DT JJ NN IN NN NNS IN NNP , JJ IN NN NN , VB TO VB DT JJ NN IN NNP CC NNP POS JJ NNS .      '"
            ]
          },
          "metadata": {
            "tags": []
          },
          "execution_count": 160
        }
      ]
    },
    {
      "cell_type": "code",
      "metadata": {
        "colab": {
          "base_uri": "https://localhost:8080/",
          "height": 35
        },
        "id": "9Wq57VvvKWHi",
        "outputId": "12fac193-dc1f-4f15-fb37-d70060abc224"
      },
      "source": [
        "get_tags(test, \"RNN\")"
      ],
      "execution_count": 164,
      "outputs": [
        {
          "output_type": "execute_result",
          "data": {
            "application/vnd.google.colaboratory.intrinsic+json": {
              "type": "string"
            },
            "text/plain": [
              "'NN IN DT NN IN RB VBN CC NNP NNP JJ NN IN NN NNS IN NNP , JJ IN NN NN , VB CC NN DT JJ NN IN NNP CC NNP CC JJ NNS NNP'"
            ]
          },
          "metadata": {
            "tags": []
          },
          "execution_count": 164
        }
      ]
    }
  ]
}